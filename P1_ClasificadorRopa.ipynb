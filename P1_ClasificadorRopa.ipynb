{
<<<<<<< HEAD
 "cells": [
  {
   "cell_type": "markdown",
   "metadata": {},
   "source": [
    "# P1. Clasificador de ropa"
   ]
  },
  {
   "cell_type": "code",
   "execution_count": 4,
   "metadata": {},
   "outputs": [
    {
     "data": {
      "text/plain": [
       "True"
      ]
     },
     "execution_count": 4,
     "metadata": {},
     "output_type": "execute_result"
    }
   ],
   "source": [
    "import tensorflow as tf\n",
    "tf.__version__ >= '2.0.0'"
   ]
  },
  {
   "cell_type": "code",
   "execution_count": 5,
   "metadata": {},
   "outputs": [],
   "source": [
    "from keras.datasets import fashion_mnist\n",
    "(train_images, train_labels), (test_images, test_labels) = fashion_mnist.load_data()"
   ]
  },
  {
   "cell_type": "code",
   "execution_count": 7,
   "metadata": {},
   "outputs": [
    {
     "name": "stdout",
     "output_type": "stream",
     "text": [
      "(60000, 28, 28)\n"
     ]
    }
   ],
   "source": [
    "print(train_images.shape)"
   ]
  },
  {
   "cell_type": "code",
   "execution_count": 20,
   "metadata": {},
   "outputs": [
    {
     "name": "stdout",
     "output_type": "stream",
     "text": [
      "[[  0   0   0   0   0   0   0   0   0   0 118 204 181 175 213 199 168 197 111   0   0   0   0   0   0   0   0   0]\n",
      " [  0   0   0   0   0   0   0   0   0   0 173 225 185 179 225 158 142 227 173   0   0   0   0   0   0   0   0   0]\n",
      " [  0   0   0   0   0   0   0   0   0   0 170 229 226 226 233 151 167 234 158   0   0   0   0   0   0   0   0   0]\n",
      " [  0   0   0   0   0   0   0   0   0   0 194 222 212 226 222 240 218 230 163   0   0   0   0   0   0   0   0   0]\n",
      " [  0   0   0   0   0   0   0   0   0   0 198 222 210 207 211 207 208 231 147   0   0   0   0   0   0   0   0   0]\n",
      " [  0   0   0   0   0   0   0   0   0   0 188 220 209 210 211 215 208 230 144   0   1   0   0   0   0   0   0   0]\n",
      " [  0   0   0   0   0   0   0   0   0   0 183 232 214 220 212 220 213 239 158   0   1   0   0   0   0   0   0   0]\n",
      " [  0   0   0   0   0   0   0   0   0   0 183 232 217 216 215 219 216 238 160   0   1   0   0   0   0   0   0   0]\n",
      " [  0   0   0   0   0   0   0   0   0   0 185 231 218 221 215 218 214 238 170   0   1   0   0   0   0   0   0   0]\n",
      " [  0   0   0   0   0   0   0   0   0   0 188 233 215 220 219 219 216 238 169   0   2   0   0   0   0   0   0   0]\n",
      " [  0   0   0   0   0   0   0   0   0   0 169 240 219 221 222 228 214 243 114   0   1   0   0   0   0   0   0   0]\n",
      " [  0   0   0   0   0   0   0   0   0   0 128 255 214 218 206 205 225 233  53   0   0   0   0   0   0   0   0   0]\n",
      " [  0   0   0   0   0   0   0   0   0   0 200 229 218 221 219 211 217 228 204   0   0   0   0   0   0   0   0   0]\n",
      " [  0   0   0   0   0   0   0   0   0  34 230 214 217 216 218 218 220 217 231  42   0   0   0   0   0   0   0   0]\n",
      " [  0   0   0   0   0   0   0   0   0  94 236 213 219 219 218 215 219 213 234 110   0   0   0   0   0   0   0   0]\n",
      " [  0   0   0   0   0   0   0   0   0 167 234 212 218 218 219 212 225 215 231 170   0   0   0   0   0   0   0   0]\n",
      " [  0   0   0   0   0   0   0   0   0 200 230 213 216 218 221 211 224 214 228 213   0   0   0   0   0   0   0   0]\n",
      " [  0   0   0   0   0   0   0   0   0 192 228 213 216 218 222 213 224 215 221 200   0   0   0   0   0   0   0   0]\n",
      " [  0   0   0   0   0   0   0   0   0 202 225 216 214 219 215 219 225 215 219 208   0   0   0   0   0   0   0   0]\n",
      " [  0   0   0   0   0   0   0   0   0 215 224 214 215 221 213 217 220 215 216 216   0   0   0   0   0   0   0   0]\n",
      " [  0   0   0   0   0   0   0   0  26 232 214 218 213 226 212 216 225 215 211 224  27   0   0   0   0   0   0   0]\n",
      " [  0   0   0   0   0   0   0   0  59 234 214 220 214 225 211 213 227 216 212 228  51   0   0   0   0   0   0   0]\n",
      " [  0   0   0   0   0   0   0   0  67 233 214 221 213 227 209 215 228 216 211 228  56   0   0   0   0   0   0   0]\n",
      " [  0   0   0   0   0   0   0   0  92 234 215 219 215 226 208 214 227 215 211 225  42   0   0   0   0   0   0   0]\n",
      " [  0   0   0   0   0   0   0   0 116 236 215 218 211 230 213 212 229 215 211 228  64   0   0   0   0   0   0   0]\n",
      " [  0   0   0   0   0   0   0   0 140 231 218 221 221 236 204 219 224 221 219 227 132   0   0   0   0   0   0   0]\n",
      " [  0   0   0   0   0   0   0   0 107 200 193 205 194 217 213 218 248 202 172 227 105   0   0   0   0   0   0   0]\n",
      " [  0   0   0   0   0   0   0   0   0  21 108 142 146 125 173 141  94 152 154  89   0   0   0   0   0   0   0   0]]\n"
     ]
    }
   ],
   "source": [
    "import numpy as np\n",
    "# Vemos la matriz de la imagen número 30.000 (28x28)\n",
    "np.set_printoptions(precision=2, suppress=True, linewidth=145)\n",
    "print(np.matrix(train_images[30000]))"
   ]
  },
  {
   "cell_type": "code",
   "execution_count": 21,
   "metadata": {},
   "outputs": [
    {
     "name": "stdout",
     "output_type": "stream",
     "text": [
      "3\n"
     ]
    }
   ],
   "source": [
    "print(train_labels[30000])"
   ]
  },
  {
   "cell_type": "code",
   "execution_count": 10,
   "metadata": {},
   "outputs": [
    {
     "data": {
      "image/png": "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",
      "text/plain": [
       "<Figure size 640x480 with 1 Axes>"
      ]
     },
     "metadata": {},
     "output_type": "display_data"
    }
   ],
   "source": [
    "import matplotlib.pyplot as plt\n",
    "ropa = train_images[3000]\n",
    "plt.imshow(ropa, cmap=plt.cm.binary)\n",
    "plt.show()"
   ]
  },
  {
   "cell_type": "code",
   "execution_count": 22,
   "metadata": {},
   "outputs": [
    {
     "name": "stdout",
     "output_type": "stream",
     "text": [
      "(60000,)\n"
     ]
    }
   ],
   "source": [
    "print(train_labels.shape)"
   ]
  },
  {
   "cell_type": "code",
   "execution_count": 24,
   "metadata": {},
   "outputs": [
    {
     "name": "stdout",
     "output_type": "stream",
     "text": [
      "(10000, 28, 28)\n",
      "(10000,)\n"
     ]
    }
   ],
   "source": [
    "print(test_images.shape)\n",
    "print(test_labels.shape)"
   ]
  },
  {
   "cell_type": "code",
   "execution_count": 25,
   "metadata": {},
   "outputs": [
    {
     "data": {
      "image/png": "iVBORw0KGgoAAAANSUhEUgAAAaAAAAGdCAYAAABU0qcqAAAAOXRFWHRTb2Z0d2FyZQBNYXRwbG90bGliIHZlcnNpb24zLjguMCwgaHR0cHM6Ly9tYXRwbG90bGliLm9yZy81sbWrAAAACXBIWXMAAA9hAAAPYQGoP6dpAAAdnklEQVR4nO3df2xV9f3H8ddtoZcftrcW7C8pWBBlE6kbk46ofHE0QE2cIH/4awkYg5EVN2ROw6Kibkk3XJzRMPlHYSaCzoQf0WQYLLZMLWygjBFdB6QKrj/ALr23tHDB9vP9g3DnFRA+x3v7bsvzkZyEe+9597z74XBfnN7b9w0555wAAOhlGdYNAAAuTgQQAMAEAQQAMEEAAQBMEEAAABMEEADABAEEADBBAAEATAyybuDrenp61NTUpOzsbIVCIet2AACenHPq6OhQcXGxMjLOfZ3T5wKoqalJJSUl1m0AAL6lQ4cOadSoUed8vM8FUHZ2tqRTjefk5Bh3AwDwFYvFVFJSkng+P5e0BdDKlSv1zDPPqKWlRWVlZXrhhRc0ZcqU89ad/rFbTk4OAQQA/dj5XkZJy5sQXn/9dS1dulTLly/Xhx9+qLKyMs2aNUuHDx9Ox+EAAP1QWgLo2Wef1cKFC3Xvvffqu9/9rlatWqVhw4bp5ZdfTsfhAAD9UMoD6MSJE9q1a5cqKir+d5CMDFVUVKi+vv6M/ePxuGKxWNIGABj4Uh5AX3zxhbq7u1VQUJB0f0FBgVpaWs7Yv7q6WpFIJLHxDjgAuDiY/yLqsmXLFI1GE9uhQ4esWwIA9IKUvwtu5MiRyszMVGtra9L9ra2tKiwsPGP/cDiscDic6jYAAH1cyq+AsrKyNHnyZNXU1CTu6+npUU1NjaZOnZrqwwEA+qm0/B7Q0qVLNX/+fP3gBz/QlClT9Nxzz6mzs1P33ntvOg4HAOiH0hJAd9xxh44cOaInnnhCLS0tuu6667R58+Yz3pgAALh4hZxzzrqJr4rFYopEIopGo0xCAIB+6EKfx83fBQcAuDgRQAAAEwQQAMAEAQQAMEEAAQBMEEAAABMEEADABAEEADBBAAEATBBAAAATBBAAwAQBBAAwQQABAEwQQAAAEwQQAMAEAQQAMEEAAQBMEEAAABMEEADABAEEADBBAAEATBBAAAATBBAAwAQBBAAwQQABAEwQQAAAEwQQAMAEAQQAMEEAAQBMEEAAABMEEADABAEEADBBAAEATBBAAAATBBAAwAQBBAAwQQABAEwQQAAAEwQQAMAEAQQAMEEAAQBMEEAAABMEEADABAEEADBBAAEATBBAAAATBBAAwAQBBAAwQQABAEwQQAAAEwQQAMAEAQQAMEEAAQBMEEAAABMEEADARMoD6Mknn1QoFEraJkyYkOrDAAD6uUHp+KLXXHON3nnnnf8dZFBaDgMA6MfSkgyDBg1SYWFhOr40AGCASMtrQPv27VNxcbHGjh2re+65RwcPHjznvvF4XLFYLGkDAAx8KQ+g8vJyrVmzRps3b9aLL76oxsZG3XTTTero6Djr/tXV1YpEIomtpKQk1S0BAPqgkHPOpfMA7e3tGjNmjJ599lndd999Zzwej8cVj8cTt2OxmEpKShSNRpWTk5PO1gAAaRCLxRSJRM77PJ72dwfk5ubqqquu0v79+8/6eDgcVjgcTncbAIA+Ju2/B3T06FEdOHBARUVF6T4UAKAfSXkAPfzww6qrq9Onn36qDz74QHPnzlVmZqbuuuuuVB8KANCPpfxHcJ9//rnuuusutbW16bLLLtONN96o7du367LLLkv1oQAA/VjKA+i1115L9ZcEAAxAzIIDAJgggAAAJgggAIAJAggAYIIAAgCYIIAAACYIIACACQIIAGCCAAIAmCCAAAAmCCAAgAkCCABgIu0fSAcA59Ld3e1dk5Hh///mUCjkXRPUVz/h+UIF+VDOffv2eddI0vjx4wPVpQNXQAAAEwQQAMAEAQQAMEEAAQBMEEAAABMEEADABAEEADBBAAEATBBAAAATBBAAwAQBBAAwQQABAEwQQAAAE0zDBr4l51yv1ASZAv2f//zHu0aS6uvrvWsqKyu9a4YPH+5d09cFmWwdxPr16wPVPfrooynuJDiugAAAJgggAIAJAggAYIIAAgCYIIAAACYIIACACQIIAGCCAAIAmCCAAAAmCCAAgAkCCABgggACAJhgGClgIMhg0SD++te/BqrbsWOHd01TU5N3zc9+9jPvmr7u8OHD3jVvv/22d012drZ3TV/DFRAAwAQBBAAwQQABAEwQQAAAEwQQAMAEAQQAMEEAAQBMEEAAABMEEADABAEEADBBAAEATBBAAAATDCMFvqXu7m7vmkGD/P/p/f3vf/eu+eSTT7xrJKmgoMC7Zt++fd41c+fO9a659NJLvWuOHz/uXSNJY8aM8a5pa2vzronFYt41l19+uXdNX8MVEADABAEEADDhHUDbtm3TrbfequLiYoVCIW3cuDHpceecnnjiCRUVFWno0KGqqKgIdGkOABjYvAOos7NTZWVlWrly5VkfX7FihZ5//nmtWrVKO3bs0PDhwzVr1qzAP4MFAAxM3q+EVlZWqrKy8qyPOef03HPP6bHHHtNtt90mSXrllVdUUFCgjRs36s477/x23QIABoyUvgbU2NiolpYWVVRUJO6LRCIqLy9XfX39WWvi8bhisVjSBgAY+FIaQC0tLZLOfAtnQUFB4rGvq66uViQSSWwlJSWpbAkA0EeZvwtu2bJlikajie3QoUPWLQEAekFKA6iwsFCS1NramnR/a2tr4rGvC4fDysnJSdoAAANfSgOotLRUhYWFqqmpSdwXi8W0Y8cOTZ06NZWHAgD0c97vgjt69Kj279+fuN3Y2Kjdu3crLy9Po0eP1pIlS/Sb3/xG48ePV2lpqR5//HEVFxdrzpw5qewbANDPeQfQzp07dfPNNyduL126VJI0f/58rVmzRo888og6Ozt1//33q729XTfeeKM2b96sIUOGpK5rAEC/F3LOOesmvioWiykSiSgajfJ6EHpdT0+Pd01Ghv9Psjs7O71rnn76ae+acDjsXSMF+54+/fRT75r29nbvmt4cRhrk72nUqFHeNUGehoP+3T733HOB6nxc6PO4+bvgAAAXJwIIAGCCAAIAmCCAAAAmCCAAgAkCCABgggACAJgggAAAJgggAIAJAggAYIIAAgCYIIAAACYIIACACe+PY0DfFmSqbigUCnSsIJOjgxwrSE13d7d3jSRlZmYGqvO1atUq75qCggLvmqAfg/LZZ5951wSZOB3ke/ryyy+9a4Ke48OHD/euCTKlOhqNetfE43HvGinYhO8g63AhuAICAJgggAAAJgggAIAJAggAYIIAAgCYIIAAACYIIACACQIIAGCCAAIAmCCAAAAmCCAAgAkCCABggmGkvaS3hoQGHboYREZG7/z/Jchg0d4aKipJ69at865paWnxrvne977nXRNkcKcktbe3e9fk5eV514wYMcK75osvvvCuOXr0qHeNFHz9fAV5fujq6gp0rH379nnXXHfddYGOdT5cAQEATBBAAAATBBAAwAQBBAAwQQABAEwQQAAAEwQQAMAEAQQAMEEAAQBMEEAAABMEEADABAEEADDBMNJe0ltDQnt6enqlRgo28DPIOvTmYNGXX37Zu+bf//63d01JSYl3TVtbm3dNkCGXknTs2DHvmssvv9y7pqOjw7smyDk0bNgw7xpJOn78uHdNbw0eDurtt9/2rmEYKQBgQCGAAAAmCCAAgAkCCABgggACAJgggAAAJgggAIAJAggAYIIAAgCYIIAAACYIIACACQIIAGDioh5GGnQIZxBBhg0GGWqYkeH/f4ogNb2pqanJu2b9+vWBjhVkCOf48eO9a44ePepdE4/HvWuCDDCVpMGDB3vXBDnHu7q6vGuCCHqOh8PhXjnW8OHDvWuCDjB9//33A9WlQ99+5gEADFgEEADAhHcAbdu2TbfeequKi4sVCoW0cePGpMcXLFigUCiUtM2ePTtV/QIABgjvAOrs7FRZWZlWrlx5zn1mz56t5ubmxLZu3bpv1SQAYODxfhNCZWWlKisrv3GfcDiswsLCwE0BAAa+tLwGVFtbq/z8fF199dVatGjRN74TJx6PKxaLJW0AgIEv5QE0e/ZsvfLKK6qpqdHvfvc71dXVqbKyUt3d3Wfdv7q6WpFIJLGVlJSkuiUAQB+U8t8DuvPOOxN/vvbaazVp0iSNGzdOtbW1mjFjxhn7L1u2TEuXLk3cjsVihBAAXATS/jbssWPHauTIkdq/f/9ZHw+Hw8rJyUnaAAADX9oD6PPPP1dbW5uKiorSfSgAQD/i/SO4o0ePJl3NNDY2avfu3crLy1NeXp6eeuopzZs3T4WFhTpw4IAeeeQRXXnllZo1a1ZKGwcA9G/eAbRz507dfPPNidunX7+ZP3++XnzxRe3Zs0d/+tOf1N7eruLiYs2cOVO//vWvA81UAgAMXN4BNH369G8ckvn2229/q4ZO6+7uPuc7584mMzPT+xh9fQhn0GGDvo4cORKo7tNPP/WuaWho8K5pbm72rsnKyvKukRToNcj29nbvmiC/bnDy5EnvmiADTKVg/56CnA9ffvmld01ubq53TdDzwec56LQgQ4SHDh3qXROkN0m65JJLvGv27t3rtf+FDtvt28/AAIABiwACAJgggAAAJgggAIAJAggAYIIAAgCYIIAAACYIIACACQIIAGCCAAIAmCCAAAAmCCAAgAkCCABgIuUfyZ0qmZmZgSby+mhtbQ1U99lnn3nXdHZ29krNsWPHvGsaGxu9aySpq6vLu2bQIP9TLjs727ump6fHu0aSotGod02QNQ+yDkHWO8iUZUmBPj7lxIkT3jVBPqgyyCTxIGsnSZdeeql3zYVOgv6q//73v941QaZaS1JLS4t3jW9/F/rcxRUQAMAEAQQAMEEAAQBMEEAAABMEEADABAEEADBBAAEATBBAAAATBBAAwAQBBAAwQQABAEwQQAAAE312GKmvd955x7umqakp0LGCDJI8cuSId013d7d3TZABrkG+HynYkNAggxqDDE90znnXSFI8HveuCTKwMsiw1CBrF+QckqThw4d71wQZjpmbm+tdE+TfUm8Kcj5kZPhfCwQZgisFGxrr+xxxoftzBQQAMEEAAQBMEEAAABMEEADABAEEADBBAAEATBBAAAATBBAAwAQBBAAwQQABAEwQQAAAEwQQAMBEnx1GWlNT4zUQ8aWXXvI+xoQJE7xrJKmoqMi7JsjgziADK7Oysrxrgg6sDDLwM8g6BBmeGGS4oyR1dHR41wRZhyCDJEOhkHdN0L/bIANgW1tbvWs+/vhj75og50PQdQgiyFDWzs5O75ohQ4Z410jB+svPz/fa/0L/HXEFBAAwQQABAEwQQAAAEwQQAMAEAQQAMEEAAQBMEEAAABMEEADABAEEADBBAAEATBBAAAATBBAAwESfHUY6efJk5eTkXPD+27dv9z7GP//5T+8aSXrvvfcC1fkaPHiwd02QYZ95eXneNUHrIpGId02Q4ZNBBoRKUltbm3dNQ0ODd01XV5d3TSwW864JMsBUkv7xj39410yaNMm75oorrvCu2bJli3dNPB73rpGCD7X1NWiQ/1NxcXFxoGP5PK+e5juk9+jRoxe0H1dAAAATBBAAwIRXAFVXV+v6669Xdna28vPzNWfOnDN+/HD8+HFVVVVpxIgRuuSSSzRv3rxAnxMCABjYvAKorq5OVVVV2r59u7Zs2aKTJ09q5syZSR+m9NBDD+nNN9/UG2+8obq6OjU1Nen2229PeeMAgP7N65WvzZs3J91es2aN8vPztWvXLk2bNk3RaFQvvfSS1q5dqx/96EeSpNWrV+s73/mOtm/frh/+8Iep6xwA0K99q9eAotGopP+9G2rXrl06efKkKioqEvtMmDBBo0ePVn19/Vm/RjweVywWS9oAAANf4ADq6enRkiVLdMMNN2jixImSTn2OfFZWlnJzc5P2LSgoOOdnzFdXVysSiSS2kpKSoC0BAPqRwAFUVVWlvXv36rXXXvtWDSxbtkzRaDSxHTp06Ft9PQBA/xDoF1EXL16st956S9u2bdOoUaMS9xcWFurEiRNqb29PugpqbW1VYWHhWb9WOBxWOBwO0gYAoB/zugJyzmnx4sXasGGDtm7dqtLS0qTHJ0+erMGDB6umpiZxX0NDgw4ePKipU6empmMAwIDgdQVUVVWltWvXatOmTcrOzk68rhOJRDR06FBFIhHdd999Wrp0qfLy8pSTk6MHH3xQU6dO5R1wAIAkXgH04osvSpKmT5+edP/q1au1YMECSdIf/vAHZWRkaN68eYrH45o1a5b++Mc/pqRZAMDAEXJBpzamSSwWUyQSUTQaDTQ0rzdc6KC9r9qxY4d3TZAhlx988IF3zZEjR7xrpGDDMb/6S8sXKsgpGnQIZ5Dhk0GGsk6YMMG75qu/3nChbrnlFu8aSRoyZEigut7w4x//2Lvm4MGDgY41YsQI75ogz1tBhggHGWAqKdBr7r///e+99o/FYiouLj7v8ziz4AAAJgggAIAJAggAYIIAAgCYIIAAACYIIACACQIIAGCCAAIAmCCAAAAmCCAAgAkCCABgggACAJgggAAAJpiGDQBIqQt9HucKCABgggACAJgggAAAJgggAIAJAggAYIIAAgCYIIAAACYIIACACQIIAGCCAAIAmCCAAAAmCCAAgAkCCABgggACAJgggAAAJgggAIAJAggAYIIAAgCYIIAAACYIIACACQIIAGCCAAIAmCCAAAAmCCAAgAkCCABgggACAJgggAAAJgggAIAJAggAYIIAAgCYIIAAACYIIACACQIIAGCCAAIAmCCAAAAmCCAAgAkCCABgggACAJgggAAAJgggAIAJAggAYMIrgKqrq3X99dcrOztb+fn5mjNnjhoaGpL2mT59ukKhUNL2wAMPpLRpAED/5xVAdXV1qqqq0vbt27VlyxadPHlSM2fOVGdnZ9J+CxcuVHNzc2JbsWJFSpsGAPR/g3x23rx5c9LtNWvWKD8/X7t27dK0adMS9w8bNkyFhYWp6RAAMCB9q9eAotGoJCkvLy/p/ldffVUjR47UxIkTtWzZMnV1dZ3za8TjccVisaQNADDweV0BfVVPT4+WLFmiG264QRMnTkzcf/fdd2vMmDEqLi7Wnj179Oijj6qhoUHr168/69eprq7WU089FbQNAEA/FXLOuSCFixYt0l/+8he99957GjVq1Dn327p1q2bMmKH9+/dr3LhxZzwej8cVj8cTt2OxmEpKShSNRpWTkxOkNQCAoVgspkgkct7n8UBXQIsXL9Zbb72lbdu2fWP4SFJ5ebkknTOAwuGwwuFwkDYAAP2YVwA55/Tggw9qw4YNqq2tVWlp6Xlrdu/eLUkqKioK1CAAYGDyCqCqqiqtXbtWmzZtUnZ2tlpaWiRJkUhEQ4cO1YEDB7R27VrdcsstGjFihPbs2aOHHnpI06ZN06RJk9LyDQAA+iev14BCodBZ71+9erUWLFigQ4cO6Sc/+Yn27t2rzs5OlZSUaO7cuXrssccu+PWcC/3ZIQCgb0rLa0Dny6qSkhLV1dX5fEkAwEWKWXAAABMEEADABAEEADBBAAEATBBAAAATBBAAwAQBBAAwQQABAEwQQAAAEwQQAMAEAQQAMEEAAQBMEEAAABMEEADABAEEADBBAAEATBBAAAATBBAAwAQBBAAwQQABAEwQQAAAEwQQAMAEAQQAMEEAAQBMEEAAABODrBv4OuecJCkWixl3AgAI4vTz9+nn83PpcwHU0dEhSSopKTHuBADwbXR0dCgSiZzz8ZA7X0T1sp6eHjU1NSk7O1uhUCjpsVgsppKSEh06dEg5OTlGHdpjHU5hHU5hHU5hHU7pC+vgnFNHR4eKi4uVkXHuV3r63BVQRkaGRo0a9Y375OTkXNQn2GmswymswymswymswynW6/BNVz6n8SYEAIAJAggAYKJfBVA4HNby5csVDoetWzHFOpzCOpzCOpzCOpzSn9ahz70JAQBwcehXV0AAgIGDAAIAmCCAAAAmCCAAgIl+E0ArV67UFVdcoSFDhqi8vFx/+9vfrFvqdU8++aRCoVDSNmHCBOu20m7btm269dZbVVxcrFAopI0bNyY97pzTE088oaKiIg0dOlQVFRXat2+fTbNpdL51WLBgwRnnx+zZs22aTZPq6mpdf/31ys7OVn5+vubMmaOGhoakfY4fP66qqiqNGDFCl1xyiebNm6fW1lajjtPjQtZh+vTpZ5wPDzzwgFHHZ9cvAuj111/X0qVLtXz5cn344YcqKyvTrFmzdPjwYevWet0111yj5ubmxPbee+9Zt5R2nZ2dKisr08qVK8/6+IoVK/T8889r1apV2rFjh4YPH65Zs2bp+PHjvdxpep1vHSRp9uzZSefHunXrerHD9Kurq1NVVZW2b9+uLVu26OTJk5o5c6Y6OzsT+zz00EN688039cYbb6iurk5NTU26/fbbDbtOvQtZB0lauHBh0vmwYsUKo47PwfUDU6ZMcVVVVYnb3d3drri42FVXVxt21fuWL1/uysrKrNswJclt2LAhcbunp8cVFha6Z555JnFfe3u7C4fDbt26dQYd9o6vr4Nzzs2fP9/ddtttJv1YOXz4sJPk6urqnHOn/u4HDx7s3njjjcQ+n3zyiZPk6uvrrdpMu6+vg3PO/d///Z/7+c9/btfUBejzV0AnTpzQrl27VFFRkbgvIyNDFRUVqq+vN+zMxr59+1RcXKyxY8fqnnvu0cGDB61bMtXY2KiWlpak8yMSiai8vPyiPD9qa2uVn5+vq6++WosWLVJbW5t1S2kVjUYlSXl5eZKkXbt26eTJk0nnw4QJEzR69OgBfT58fR1Oe/XVVzVy5EhNnDhRy5YtU1dXl0V759TnhpF+3RdffKHu7m4VFBQk3V9QUKB//etfRl3ZKC8v15o1a3T11VerublZTz31lG666Sbt3btX2dnZ1u2ZaGlpkaSznh+nH7tYzJ49W7fffrtKS0t14MAB/epXv1JlZaXq6+uVmZlp3V7K9fT0aMmSJbrhhhs0ceJESafOh6ysLOXm5ibtO5DPh7OtgyTdfffdGjNmjIqLi7Vnzx49+uijamho0Pr16w27TdbnAwj/U1lZmfjzpEmTVF5erjFjxujPf/6z7rvvPsPO0BfceeediT9fe+21mjRpksaNG6fa2lrNmDHDsLP0qKqq0t69ey+K10G/ybnW4f7770/8+dprr1VRUZFmzJihAwcOaNy4cb3d5ln1+R/BjRw5UpmZmWe8i6W1tVWFhYVGXfUNubm5uuqqq7R//37rVsycPgc4P840duxYjRw5ckCeH4sXL9Zbb72ld999N+njWwoLC3XixAm1t7cn7T9Qz4dzrcPZlJeXS1KfOh/6fABlZWVp8uTJqqmpSdzX09OjmpoaTZ061bAze0ePHtWBAwdUVFRk3YqZ0tJSFRYWJp0fsVhMO3bsuOjPj88//1xtbW0D6vxwzmnx4sXasGGDtm7dqtLS0qTHJ0+erMGDByedDw0NDTp48OCAOh/Otw5ns3v3bknqW+eD9bsgLsRrr73mwuGwW7Nmjfv444/d/fff73Jzc11LS4t1a73qF7/4hautrXWNjY3u/fffdxUVFW7kyJHu8OHD1q2lVUdHh/voo4/cRx995CS5Z5991n300Ufus88+c84599vf/tbl5ua6TZs2uT179rjbbrvNlZaWumPHjhl3nlrftA4dHR3u4YcfdvX19a6xsdG988477vvf/74bP368O378uHXrKbNo0SIXiURcbW2ta25uTmxdXV2JfR544AE3evRot3XrVrdz5043depUN3XqVMOuU+9867B//3739NNPu507d7rGxka3adMmN3bsWDdt2jTjzpP1iwByzrkXXnjBjR492mVlZbkpU6a47du3W7fU6+644w5XVFTksrKy3OWXX+7uuOMOt3//fuu20u7dd991ks7Y5s+f75w79Vbsxx9/3BUUFLhwOOxmzJjhGhoabJtOg29ah66uLjdz5kx32WWXucGDB7sxY8a4hQsXDrj/pJ3t+5fkVq9endjn2LFj7qc//am79NJL3bBhw9zcuXNdc3OzXdNpcL51OHjwoJs2bZrLy8tz4XDYXXnlle6Xv/yli0ajto1/DR/HAAAw0edfAwIADEwEEADABAEEADBBAAEATBBAAAATBBAAwAQBBAAwQQABAEwQQAAAEwQQAMAEAQQAMEEAAQBM/D9uRNWxsj7EigAAAABJRU5ErkJggg==",
      "text/plain": [
       "<Figure size 640x480 with 1 Axes>"
      ]
     },
     "metadata": {},
     "output_type": "display_data"
    }
   ],
   "source": [
    "# Veamos el elemento 0 de test (que vemos que es un zapato) y pintémoslo con matplotlib\n",
    "import matplotlib.pyplot as plt\n",
    "ropa = test_images[0]\n",
    "plt.imshow(ropa, cmap=plt.cm.binary)\n",
    "plt.show()"
   ]
  },
  {
   "cell_type": "code",
   "execution_count": null,
   "metadata": {},
   "outputs": [],
   "source": []
  }
 ],
 "metadata": {
  "kernelspec": {
   "display_name": ".venv",
   "language": "python",
   "name": "python3"
=======
  "cells": [
    {
      "cell_type": "markdown",
      "metadata": {},
      "source": [
        "### Grupo B04\n",
        "### Miguel Egido Morales, Alfredo Robledano Abasolo, Ana Robledano Abasolo\n"
      ]
    },
    {
      "cell_type": "markdown",
      "metadata": {
        "id": "uWbYb_Ejqlms"
      },
      "source": [
        "# P1 AA Configuración y Entrenamiento de una Red de Neuronas"
      ]
    },
    {
      "cell_type": "markdown",
      "metadata": {
        "id": "eYK5LlXYszma"
      },
      "source": [
        "Utilizaremos la **biblioteca Python Keras** para **clasificar** artículos de ropa.\n",
        "\n",
        "**PROBLEMA:**\n",
        "- Clasificación de imágenes en escala de grises de prendas de ropa (28 x 28 píxeles) en sus 10 categorías (de 0 a 9)\n",
        "- Usaremos 60K imágenes de entrenamiento y más de 10K imágenes de prueba, todas ellas recopiladas por el National Institute of Standards an Technology (NIST de MNIST) en los años ochenta.\n",
        "- El conjunto de datos MNIST está precargado en Keras en la forma de un conjunto de cuatro matrices Numpy\n",
        "- Algunas muestras\n",
        "- Tenemos las siguientes categorías o **clases** del problema de clasificación de ropa: T-shirt/top, Trouser, Pullover, Dress, Coat, Sandal, Shirt, Sneaker, Bag, Ankle boot.\n",
        "- Los \"puntos de datos\" son **muestras**\n",
        "- La clase asociado a una muestra específica se llama **etiqueta**"
      ]
    },
    {
      "cell_type": "markdown",
      "metadata": {},
      "source": [
        "Importamos el paquete tensorflow que contiene a la librería keras"
      ]
    },
    {
      "cell_type": "code",
      "execution_count": 1,
      "metadata": {
        "colab": {
          "base_uri": "https://localhost:8080/"
        },
        "id": "_ZRjUdLDqlmt",
        "outputId": "2a7e2090-9a42-4c83-ed7f-82a41acfffb7"
      },
      "outputs": [
        {
          "data": {
            "text/plain": [
              "True"
            ]
          },
          "execution_count": 1,
          "metadata": {},
          "output_type": "execute_result"
        }
      ],
      "source": [
        "import tensorflow as tf\n",
        "tf.__version__ >= '2.0.0'  # Comprobamos que estamos usando al menos la versión 2.0.0"
      ]
    },
    {
      "cell_type": "markdown",
      "metadata": {
        "id": "ifOEj4QTFDju"
      },
      "source": [
        "El módulo keras.datasets contiene un dataset con imágenes de ropa que usaremos para este proyecto\\\n",
        "Las imágenes se encuentran convenientemente etiquetadas y en formato mnist\\\n",
        "A continuación almacenamos en memoria las imágenes de entrenamiento  e imágenes de test (junto con sus etiquetas)"
      ]
    },
    {
      "cell_type": "code",
      "execution_count": 8,
      "metadata": {
        "colab": {
          "base_uri": "https://localhost:8080/"
        },
        "id": "MA0GDH69qlmu",
        "outputId": "c5640b5b-43df-40fd-fdcf-3231ebbde13e"
      },
      "outputs": [
        {
          "name": "stdout",
          "output_type": "stream",
          "text": [
            "<class 'numpy.ndarray'> (60000, 28, 28) (60000,)\n",
            "<class 'numpy.ndarray'> (10000, 28, 28) (10000,)\n"
          ]
        }
      ],
      "source": [
        "from keras.datasets import fashion_mnist\n",
        "(train_images, train_labels), (test_images, test_labels) = fashion_mnist.load_data()\n",
        "print(type(train_images), train_images.shape, train_labels.shape)\n",
        "print(type(test_images), test_images.shape, test_labels.shape)"
      ]
    },
    {
      "cell_type": "markdown",
      "metadata": {
        "colab": {
          "base_uri": "https://localhost:8080/"
        },
        "id": "j7MkuUAZqlmv",
        "outputId": "cbbc5025-b1ef-44ab-c4d0-d51963575558"
      },
      "source": [
        "Observamos que train_images y test_images son numpy.arrays de 3 dimensiones\\\n",
        "60_000 imágenes de 28x28 pixels para el entrenamiento (60_000 etiquetas)\\\n",
        "10_000 imágenes de 28x28 pixels para test (10_000 etiquetas)"
      ]
    },
    {
      "cell_type": "markdown",
      "metadata": {},
      "source": [
        "Comprobamos que las etiquetas van de 0 a 9"
      ]
    },
    {
      "cell_type": "code",
      "execution_count": 12,
      "metadata": {},
      "outputs": [
        {
          "name": "stdout",
          "output_type": "stream",
          "text": [
            "{0, 1, 2, 3, 4, 5, 6, 7, 8, 9}\n",
            "{0, 1, 2, 3, 4, 5, 6, 7, 8, 9}\n"
          ]
        }
      ],
      "source": [
        "print(set(train_labels))\n",
        "print(set(test_labels))"
      ]
    },
    {
      "cell_type": "markdown",
      "metadata": {},
      "source": [
        "Echemos un vistazo a alguna imagen del set de entrenamiento (son numpy arrays 2D)\\\n",
        "Por ejemplo la número 30_000\\\n",
        "Para ello importamos numpy, de forma que podamos cambiar las opciones de impresión"
      ]
    },
    {
      "cell_type": "code",
      "execution_count": 4,
      "metadata": {
        "colab": {
          "base_uri": "https://localhost:8080/"
        },
        "id": "Fi2DmUJ5qlmv",
        "outputId": "c6872a9b-d230-4c8b-cabf-ab71aa1fa243"
      },
      "outputs": [
        {
          "name": "stdout",
          "output_type": "stream",
          "text": [
            "[[  0   0   0   0   0   0   0   0   0   0 118 204 181 175 213 199 168 197 111   0   0   0   0   0   0   0   0   0]\n",
            " [  0   0   0   0   0   0   0   0   0   0 173 225 185 179 225 158 142 227 173   0   0   0   0   0   0   0   0   0]\n",
            " [  0   0   0   0   0   0   0   0   0   0 170 229 226 226 233 151 167 234 158   0   0   0   0   0   0   0   0   0]\n",
            " [  0   0   0   0   0   0   0   0   0   0 194 222 212 226 222 240 218 230 163   0   0   0   0   0   0   0   0   0]\n",
            " [  0   0   0   0   0   0   0   0   0   0 198 222 210 207 211 207 208 231 147   0   0   0   0   0   0   0   0   0]\n",
            " [  0   0   0   0   0   0   0   0   0   0 188 220 209 210 211 215 208 230 144   0   1   0   0   0   0   0   0   0]\n",
            " [  0   0   0   0   0   0   0   0   0   0 183 232 214 220 212 220 213 239 158   0   1   0   0   0   0   0   0   0]\n",
            " [  0   0   0   0   0   0   0   0   0   0 183 232 217 216 215 219 216 238 160   0   1   0   0   0   0   0   0   0]\n",
            " [  0   0   0   0   0   0   0   0   0   0 185 231 218 221 215 218 214 238 170   0   1   0   0   0   0   0   0   0]\n",
            " [  0   0   0   0   0   0   0   0   0   0 188 233 215 220 219 219 216 238 169   0   2   0   0   0   0   0   0   0]\n",
            " [  0   0   0   0   0   0   0   0   0   0 169 240 219 221 222 228 214 243 114   0   1   0   0   0   0   0   0   0]\n",
            " [  0   0   0   0   0   0   0   0   0   0 128 255 214 218 206 205 225 233  53   0   0   0   0   0   0   0   0   0]\n",
            " [  0   0   0   0   0   0   0   0   0   0 200 229 218 221 219 211 217 228 204   0   0   0   0   0   0   0   0   0]\n",
            " [  0   0   0   0   0   0   0   0   0  34 230 214 217 216 218 218 220 217 231  42   0   0   0   0   0   0   0   0]\n",
            " [  0   0   0   0   0   0   0   0   0  94 236 213 219 219 218 215 219 213 234 110   0   0   0   0   0   0   0   0]\n",
            " [  0   0   0   0   0   0   0   0   0 167 234 212 218 218 219 212 225 215 231 170   0   0   0   0   0   0   0   0]\n",
            " [  0   0   0   0   0   0   0   0   0 200 230 213 216 218 221 211 224 214 228 213   0   0   0   0   0   0   0   0]\n",
            " [  0   0   0   0   0   0   0   0   0 192 228 213 216 218 222 213 224 215 221 200   0   0   0   0   0   0   0   0]\n",
            " [  0   0   0   0   0   0   0   0   0 202 225 216 214 219 215 219 225 215 219 208   0   0   0   0   0   0   0   0]\n",
            " [  0   0   0   0   0   0   0   0   0 215 224 214 215 221 213 217 220 215 216 216   0   0   0   0   0   0   0   0]\n",
            " [  0   0   0   0   0   0   0   0  26 232 214 218 213 226 212 216 225 215 211 224  27   0   0   0   0   0   0   0]\n",
            " [  0   0   0   0   0   0   0   0  59 234 214 220 214 225 211 213 227 216 212 228  51   0   0   0   0   0   0   0]\n",
            " [  0   0   0   0   0   0   0   0  67 233 214 221 213 227 209 215 228 216 211 228  56   0   0   0   0   0   0   0]\n",
            " [  0   0   0   0   0   0   0   0  92 234 215 219 215 226 208 214 227 215 211 225  42   0   0   0   0   0   0   0]\n",
            " [  0   0   0   0   0   0   0   0 116 236 215 218 211 230 213 212 229 215 211 228  64   0   0   0   0   0   0   0]\n",
            " [  0   0   0   0   0   0   0   0 140 231 218 221 221 236 204 219 224 221 219 227 132   0   0   0   0   0   0   0]\n",
            " [  0   0   0   0   0   0   0   0 107 200 193 205 194 217 213 218 248 202 172 227 105   0   0   0   0   0   0   0]\n",
            " [  0   0   0   0   0   0   0   0   0  21 108 142 146 125 173 141  94 152 154  89   0   0   0   0   0   0   0   0]]\n"
          ]
        }
      ],
      "source": [
        "import numpy as np\n",
        "np.set_printoptions(precision=2, suppress=True, linewidth=145)\n",
        "print(np.matrix(train_images[30_000]))"
      ]
    },
    {
      "cell_type": "markdown",
      "metadata": {},
      "source": [
        "A simple vista ningún problema\\\n",
        "Los valores de la matriz 2D asociada a la imagen están entre 0 y 255\\\n",
        "Podemos ver su etiqueta asociada"
      ]
    },
    {
      "cell_type": "code",
      "execution_count": 5,
      "metadata": {
        "colab": {
          "base_uri": "https://localhost:8080/"
        },
        "id": "6a9GvqdTqlmv",
        "outputId": "2db8c9e5-b3c6-4d63-f5cd-9ac59c020bc5"
      },
      "outputs": [
        {
          "name": "stdout",
          "output_type": "stream",
          "text": [
            "3\n"
          ]
        }
      ],
      "source": [
        "print(train_labels[30_000])"
      ]
    },
    {
      "cell_type": "markdown",
      "metadata": {},
      "source": [
        "Viendo la documentación sabemos que se trata de un vestido por ser el valor 3\\\n",
        "No obstante podemos usar el paquete matplotlib para ver como es la imagen"
      ]
    },
    {
      "cell_type": "code",
      "execution_count": 13,
      "metadata": {
        "id": "vq3OWBIgqlmv",
        "outputId": "153e1ace-39b0-45b1-8ccf-994ee54167f0"
      },
      "outputs": [
        {
          "data": {
            "image/png": "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",
            "text/plain": [
              "<Figure size 640x480 with 1 Axes>"
            ]
          },
          "metadata": {},
          "output_type": "display_data"
        }
      ],
      "source": [
        "import matplotlib.pyplot as plt\n",
        "ropa = train_images[30000]\n",
        "plt.imshow(ropa, cmap=plt.cm.binary)\n",
        "plt.show()"
      ]
    },
    {
      "cell_type": "markdown",
      "metadata": {},
      "source": [
        "Parece un vestido, tiene buena pinta\\\n",
        "Echemos un vistazo también a una imagen del set de test"
      ]
    },
    {
      "cell_type": "code",
      "execution_count": null,
      "metadata": {
        "id": "ylVHZ8aYqlmw",
        "outputId": "6539247f-393f-4849-b449-cac4ca718c3b"
      },
      "outputs": [
        {
          "data": {
            "image/png": "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",
            "text/plain": [
              "<Figure size 640x480 with 1 Axes>"
            ]
          },
          "metadata": {},
          "output_type": "display_data"
        }
      ],
      "source": [
        "import matplotlib.pyplot as plt\n",
        "ropa = test_images[0]\n",
        "plt.imshow(ropa, cmap=plt.cm.binary)\n",
        "plt.show()"
      ]
    },
    {
      "cell_type": "markdown",
      "metadata": {},
      "source": [
        "Un zapato, no cabe duda"
      ]
    },
    {
      "cell_type": "code",
      "execution_count": 14,
      "metadata": {
        "id": "TmJs2BINqlmw"
      },
      "outputs": [
        {
          "name": "stdout",
          "output_type": "stream",
          "text": [
            "9\n"
          ]
        }
      ],
      "source": [
        "print(test_labels[0])"
      ]
    },
    {
      "cell_type": "markdown",
      "metadata": {},
      "source": [
        "Etiqueta vale 9, todo correcto"
      ]
    },
    {
      "cell_type": "markdown",
      "metadata": {},
      "source": [
        "## Cuestiones"
      ]
    },
    {
      "cell_type": "markdown",
      "metadata": {},
      "source": [
        "### 1. Configurar y entrenar los siguientes modelos de red de neuronas"
      ]
    },
    {
      "cell_type": "markdown",
      "metadata": {},
      "source": [
        "A continuación establecemos los parámetros de configuración solicitados\\\n",
        "Utilizaremos namedtuples como contenedores de las configuraciones\\\n",
        "Nota: Las configuraciones de este tipo recomendaríamos tenerlas en un script aparte"
      ]
    },
    {
      "cell_type": "code",
      "execution_count": 16,
      "metadata": {},
      "outputs": [
        {
          "name": "stdout",
          "output_type": "stream",
          "text": [
            "param_rn(neuronas_capa1=10, funcion_activacion='relu', optimizador='sgd')\n"
          ]
        }
      ],
      "source": [
        "from collections import namedtuple\n",
        "\n",
        "neuronas_capa1 = (10, 10, 10, 10, 512, 512, 512, 512)\n",
        "funcion_activacion = (\"relu\", \"relu\", \"sigmoid\", \"sigmoid\", \"relu\", \"relu\", \"sigmoid\", \"sigmoid\")\n",
        "optimizador = (\"sgd\", \"rmsprop\", \"sgd\", \"rmsprop\", \"sgd\", \"rmsprop\", \"sgd\", \"rmsprop\")\n",
        "\n",
        "param_rn = namedtuple(\"param_rn\", \n",
        "                      [\"neuronas_capa1\",\"funcion_activacion\",\"optimizador\"])\n",
        "\n",
        "rn_configs = [param_rn(*params) for params in zip(neuronas_capa1,\n",
        "                                                  funcion_activacion,\n",
        "                                                  optimizador)]\n",
        "print(rn_configs[0])"
      ]
    },
    {
      "cell_type": "markdown",
      "metadata": {},
      "source": [
        "Adicionalmente se utilizará:\n",
        "* función de perdida 'categorical_crossentropy' \n",
        "* métrica de precisión\n",
        "* 5 épocas"
      ]
    },
    {
      "cell_type": "markdown",
      "metadata": {},
      "source": []
    }
  ],
  "metadata": {
    "colab": {
      "provenance": []
    },
    "kernelspec": {
      "display_name": ".venv",
      "language": "python",
      "name": "python3"
    },
    "language_info": {
      "codemirror_mode": {
        "name": "ipython",
        "version": 3
      },
      "file_extension": ".py",
      "mimetype": "text/x-python",
      "name": "python",
      "nbconvert_exporter": "python",
      "pygments_lexer": "ipython3",
      "version": "3.11.4"
    }
>>>>>>> develop
  },
  "nbformat": 4,
  "nbformat_minor": 0
}
