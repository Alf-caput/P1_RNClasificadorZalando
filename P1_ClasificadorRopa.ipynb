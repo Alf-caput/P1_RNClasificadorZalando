{
  "cells": [
    {
      "cell_type": "markdown",
      "metadata": {
        "id": "cv0UorTVdUhz"
      },
      "source": [
        "### Grupo B04\n",
        "### Miguel Egido Morales, Alfredo Robledano Abasolo, Ana Robledano Abasolo\n"
      ]
    },
    {
      "cell_type": "markdown",
      "metadata": {
        "id": "uWbYb_Ejqlms"
      },
      "source": [
        "# P1 AA Configuración y Entrenamiento de una Red de Neuronas"
      ]
    },
    {
      "cell_type": "markdown",
      "metadata": {
        "id": "eYK5LlXYszma"
      },
      "source": [
        "Utilizaremos la **biblioteca Python Keras** para **clasificar** artículos de ropa.\n",
        "\n",
        "**PROBLEMA:**\n",
        "- Clasificación de imágenes en escala de grises de prendas de ropa (28 x 28 píxeles) en sus 10 categorías (de 0 a 9)\n",
        "- Usaremos 60K imágenes de entrenamiento y más de 10K imágenes de prueba\n",
        "- El conjunto de datos MNIST está precargado en Keras en la forma de un conjunto de cuatro matrices Numpy\n",
        "- Algunas muestras\n",
        "- Tenemos las siguientes categorías o **clases** del problema de clasificación de ropa: T-shirt/top, Trouser, Pullover, Dress, Coat, Sandal, Shirt, Sneaker, Bag, Ankle boot.\n",
        "- Los \"puntos de datos\" son **muestras**\n",
        "- La clase asociado a una muestra específica se llama **etiqueta**"
      ]
    },
    {
      "cell_type": "markdown",
      "metadata": {
        "id": "Kt69U75udUh1"
      },
      "source": [
        "Importamos el paquete tensorflow que contiene a la librería keras"
      ]
    },
    {
      "cell_type": "code",
      "execution_count": 1,
      "metadata": {
        "colab": {
          "base_uri": "https://localhost:8080/"
        },
        "id": "_ZRjUdLDqlmt",
        "outputId": "3d77be4b-c792-4ecc-ed7f-08c66361bf45"
      },
      "outputs": [
        {
          "data": {
            "text/plain": [
              "True"
            ]
          },
          "execution_count": 1,
          "metadata": {},
          "output_type": "execute_result"
        }
      ],
      "source": [
        "import tensorflow as tf\n",
        "tf.__version__ >= '2.0.0'  # Comprobamos que estamos usando al menos la versión 2.0.0"
      ]
    },
    {
      "cell_type": "markdown",
      "metadata": {
        "id": "ifOEj4QTFDju"
      },
      "source": [
        "El módulo keras.datasets contiene un dataset con imágenes de ropa que usaremos para este proyecto\\\n",
        "Las imágenes se encuentran convenientemente etiquetadas y en formato mnist\\\n",
        "A continuación almacenamos en memoria las imágenes de entrenamiento  e imágenes de test (junto con sus etiquetas)"
      ]
    },
    {
      "cell_type": "code",
      "execution_count": 2,
      "metadata": {
        "colab": {
          "base_uri": "https://localhost:8080/"
        },
        "id": "MA0GDH69qlmu",
        "outputId": "34bc0619-9e9d-4670-b1e9-f3ef7f21250e"
      },
      "outputs": [
        {
          "name": "stdout",
          "output_type": "stream",
          "text": [
            "Downloading data from https://storage.googleapis.com/tensorflow/tf-keras-datasets/train-labels-idx1-ubyte.gz\n",
            "29515/29515 [==============================] - 0s 0us/step\n",
            "Downloading data from https://storage.googleapis.com/tensorflow/tf-keras-datasets/train-images-idx3-ubyte.gz\n",
            "26421880/26421880 [==============================] - 0s 0us/step\n",
            "Downloading data from https://storage.googleapis.com/tensorflow/tf-keras-datasets/t10k-labels-idx1-ubyte.gz\n",
            "5148/5148 [==============================] - 0s 0us/step\n",
            "Downloading data from https://storage.googleapis.com/tensorflow/tf-keras-datasets/t10k-images-idx3-ubyte.gz\n",
            "4422102/4422102 [==============================] - 0s 0us/step\n",
            "<class 'numpy.ndarray'> (60000, 28, 28) (60000,)\n",
            "<class 'numpy.ndarray'> (10000, 28, 28) (10000,)\n"
          ]
        }
      ],
      "source": [
        "from keras.datasets import fashion_mnist\n",
        "(train_images, train_labels), (test_images, test_labels) = fashion_mnist.load_data()\n",
        "print(type(train_images), train_images.shape, train_labels.shape)\n",
        "print(type(test_images), test_images.shape, test_labels.shape)"
      ]
    },
    {
      "cell_type": "markdown",
      "metadata": {
        "id": "j7MkuUAZqlmv",
        "outputId": "cbbc5025-b1ef-44ab-c4d0-d51963575558"
      },
      "source": [
        "Observamos que train_images y test_images son numpy.arrays de 3 dimensiones\\\n",
        "60_000 imágenes de 28x28 pixels para el entrenamiento (60_000 etiquetas)\\\n",
        "10_000 imágenes de 28x28 pixels para test (10_000 etiquetas)"
      ]
    },
    {
      "cell_type": "markdown",
      "metadata": {
        "id": "5lWXf4WHdUh3"
      },
      "source": [
        "Comprobamos que las etiquetas van de 0 a 9"
      ]
    },
    {
      "cell_type": "code",
      "execution_count": 3,
      "metadata": {
        "colab": {
          "base_uri": "https://localhost:8080/"
        },
        "id": "fLk8C6abdUh3",
        "outputId": "09dce708-22c5-4385-a463-d1def45d8a36"
      },
      "outputs": [
        {
          "name": "stdout",
          "output_type": "stream",
          "text": [
            "{0, 1, 2, 3, 4, 5, 6, 7, 8, 9}\n",
            "{0, 1, 2, 3, 4, 5, 6, 7, 8, 9}\n"
          ]
        }
      ],
      "source": [
        "print(set(train_labels))\n",
        "print(set(test_labels))"
      ]
    },
    {
      "cell_type": "markdown",
      "metadata": {
        "id": "Rp_ygXtzdUh3"
      },
      "source": [
        "Echemos un vistazo a alguna imagen del set de entrenamiento (son numpy arrays 2D)\\\n",
        "Por ejemplo la número 30_000\\\n",
        "Para ello importamos numpy, de forma que podamos cambiar las opciones de impresión"
      ]
    },
    {
      "cell_type": "code",
      "execution_count": 4,
      "metadata": {
        "colab": {
          "base_uri": "https://localhost:8080/"
        },
        "id": "Fi2DmUJ5qlmv",
        "outputId": "e41b2c48-1136-429c-9124-e5c4e033ffec"
      },
      "outputs": [
        {
          "name": "stdout",
          "output_type": "stream",
          "text": [
            "[[  0   0   0   0   0   0   0   0   0   0 118 204 181 175 213 199 168 197 111   0   0   0   0   0   0   0   0   0]\n",
            " [  0   0   0   0   0   0   0   0   0   0 173 225 185 179 225 158 142 227 173   0   0   0   0   0   0   0   0   0]\n",
            " [  0   0   0   0   0   0   0   0   0   0 170 229 226 226 233 151 167 234 158   0   0   0   0   0   0   0   0   0]\n",
            " [  0   0   0   0   0   0   0   0   0   0 194 222 212 226 222 240 218 230 163   0   0   0   0   0   0   0   0   0]\n",
            " [  0   0   0   0   0   0   0   0   0   0 198 222 210 207 211 207 208 231 147   0   0   0   0   0   0   0   0   0]\n",
            " [  0   0   0   0   0   0   0   0   0   0 188 220 209 210 211 215 208 230 144   0   1   0   0   0   0   0   0   0]\n",
            " [  0   0   0   0   0   0   0   0   0   0 183 232 214 220 212 220 213 239 158   0   1   0   0   0   0   0   0   0]\n",
            " [  0   0   0   0   0   0   0   0   0   0 183 232 217 216 215 219 216 238 160   0   1   0   0   0   0   0   0   0]\n",
            " [  0   0   0   0   0   0   0   0   0   0 185 231 218 221 215 218 214 238 170   0   1   0   0   0   0   0   0   0]\n",
            " [  0   0   0   0   0   0   0   0   0   0 188 233 215 220 219 219 216 238 169   0   2   0   0   0   0   0   0   0]\n",
            " [  0   0   0   0   0   0   0   0   0   0 169 240 219 221 222 228 214 243 114   0   1   0   0   0   0   0   0   0]\n",
            " [  0   0   0   0   0   0   0   0   0   0 128 255 214 218 206 205 225 233  53   0   0   0   0   0   0   0   0   0]\n",
            " [  0   0   0   0   0   0   0   0   0   0 200 229 218 221 219 211 217 228 204   0   0   0   0   0   0   0   0   0]\n",
            " [  0   0   0   0   0   0   0   0   0  34 230 214 217 216 218 218 220 217 231  42   0   0   0   0   0   0   0   0]\n",
            " [  0   0   0   0   0   0   0   0   0  94 236 213 219 219 218 215 219 213 234 110   0   0   0   0   0   0   0   0]\n",
            " [  0   0   0   0   0   0   0   0   0 167 234 212 218 218 219 212 225 215 231 170   0   0   0   0   0   0   0   0]\n",
            " [  0   0   0   0   0   0   0   0   0 200 230 213 216 218 221 211 224 214 228 213   0   0   0   0   0   0   0   0]\n",
            " [  0   0   0   0   0   0   0   0   0 192 228 213 216 218 222 213 224 215 221 200   0   0   0   0   0   0   0   0]\n",
            " [  0   0   0   0   0   0   0   0   0 202 225 216 214 219 215 219 225 215 219 208   0   0   0   0   0   0   0   0]\n",
            " [  0   0   0   0   0   0   0   0   0 215 224 214 215 221 213 217 220 215 216 216   0   0   0   0   0   0   0   0]\n",
            " [  0   0   0   0   0   0   0   0  26 232 214 218 213 226 212 216 225 215 211 224  27   0   0   0   0   0   0   0]\n",
            " [  0   0   0   0   0   0   0   0  59 234 214 220 214 225 211 213 227 216 212 228  51   0   0   0   0   0   0   0]\n",
            " [  0   0   0   0   0   0   0   0  67 233 214 221 213 227 209 215 228 216 211 228  56   0   0   0   0   0   0   0]\n",
            " [  0   0   0   0   0   0   0   0  92 234 215 219 215 226 208 214 227 215 211 225  42   0   0   0   0   0   0   0]\n",
            " [  0   0   0   0   0   0   0   0 116 236 215 218 211 230 213 212 229 215 211 228  64   0   0   0   0   0   0   0]\n",
            " [  0   0   0   0   0   0   0   0 140 231 218 221 221 236 204 219 224 221 219 227 132   0   0   0   0   0   0   0]\n",
            " [  0   0   0   0   0   0   0   0 107 200 193 205 194 217 213 218 248 202 172 227 105   0   0   0   0   0   0   0]\n",
            " [  0   0   0   0   0   0   0   0   0  21 108 142 146 125 173 141  94 152 154  89   0   0   0   0   0   0   0   0]]\n"
          ]
        }
      ],
      "source": [
        "import numpy as np\n",
        "np.set_printoptions(precision=2, suppress=True, linewidth=145)\n",
        "print(np.matrix(train_images[30_000]))"
      ]
    },
    {
      "cell_type": "markdown",
      "metadata": {
        "id": "L_bUss0edUh4"
      },
      "source": [
        "A simple vista ningún problema\\\n",
        "Los valores de la matriz 2D asociada a la imagen están entre 0 y 255.\\\n",
        "Podemos ver su etiqueta asociada, 3."
      ]
    },
    {
      "cell_type": "code",
      "execution_count": 5,
      "metadata": {
        "colab": {
          "base_uri": "https://localhost:8080/"
        },
        "id": "6a9GvqdTqlmv",
        "outputId": "aa52f8fa-89b1-40b1-994e-67bfb724f81e"
      },
      "outputs": [
        {
          "name": "stdout",
          "output_type": "stream",
          "text": [
            "3\n"
          ]
        }
      ],
      "source": [
        "print(train_labels[30_000])"
      ]
    },
    {
      "cell_type": "markdown",
      "metadata": {
        "id": "7iUyaT4FdUh4"
      },
      "source": [
        "Viendo la documentación sabemos que se trata de un vestido por ser el valor 3. (3: Dress)\\\n",
        "No obstante podemos usar el paquete matplotlib para ver como es la imagen"
      ]
    },
    {
      "cell_type": "code",
      "execution_count": 6,
      "metadata": {
        "colab": {
          "base_uri": "https://localhost:8080/",
          "height": 430
        },
        "id": "vq3OWBIgqlmv",
        "outputId": "e1656cfc-a3fa-4602-dbc2-f02d0ffdc52b"
      },
      "outputs": [
        {
          "data": {
            "image/png": "[encoded data removed]",
            "text/plain": [
              "<Figure size 640x480 with 1 Axes>"
            ]
          },
          "metadata": {},
          "output_type": "display_data"
        }
      ],
      "source": [
        "import matplotlib.pyplot as plt\n",
        "ropa = train_images[30000]\n",
        "plt.imshow(ropa, cmap=plt.cm.binary) # el num más bajo se pone en color blanco, y el más alto en negro\n",
        "plt.show()"
      ]
    },
    {
      "cell_type": "markdown",
      "metadata": {
        "id": "3cZYNDGzdUh4"
      },
      "source": [
        "Abrimos también una imagen del set de test."
      ]
    },
    {
      "cell_type": "code",
      "execution_count": 7,
      "metadata": {
        "colab": {
          "base_uri": "https://localhost:8080/",
          "height": 430
        },
        "id": "ylVHZ8aYqlmw",
        "outputId": "e1773083-ba7a-47c1-e9e8-5a04ca3c0596"
      },
      "outputs": [
        {
          "data": {
            "image/png": "[encoded data removed]",
            "text/plain": [
              "<Figure size 640x480 with 1 Axes>"
            ]
          },
          "metadata": {},
          "output_type": "display_data"
        }
      ],
      "source": [
        "import matplotlib.pyplot as plt\n",
        "ropa = test_images[0]\n",
        "plt.imshow(ropa, cmap=plt.cm.binary) # Veamos el elemento 0 del set de tests y pintémoslo con matplotlib\n",
        "plt.show()"
      ]
    },
    {
      "cell_type": "markdown",
      "metadata": {
        "id": "QNu3uJWTdUh4"
      },
      "source": [
        "Un zapato, no cabe duda"
      ]
    },
    {
      "cell_type": "code",
      "execution_count": 8,
      "metadata": {
        "colab": {
          "base_uri": "https://localhost:8080/"
        },
        "id": "TmJs2BINqlmw",
        "outputId": "3077bdc1-3eae-4211-f213-e0e303cce5e0"
      },
      "outputs": [
        {
          "name": "stdout",
          "output_type": "stream",
          "text": [
            "9\n"
          ]
        }
      ],
      "source": [
        "print(test_labels[0])"
      ]
    },
    {
      "cell_type": "markdown",
      "metadata": {
        "id": "CcVJhxOxdUh5"
      },
      "source": [
        "Así lo indica su etiqueta (9: shoe)\n"
      ]
    },
    {
      "cell_type": "markdown",
      "metadata": {
        "id": "VVDGHuPNvTqL"
      },
      "source": [
        "La función de keras keras.layers.Flatten() nos podría ser útil para aplanar la entrada .... (falta info)"
      ]
    },
    {
      "cell_type": "markdown",
      "metadata": {
        "id": "UzT5-LModUh5"
      },
      "source": [
        "## Cuestiones"
      ]
    },
    {
      "cell_type": "markdown",
      "metadata": {
        "id": "g7SvF5s6dUh5"
      },
      "source": [
        "### 1. Configurar y entrenar los siguientes modelos de red de neuronas"
      ]
    },
    {
      "cell_type": "markdown",
      "metadata": {
        "id": "CBIhnqmcdUh5"
      },
      "source": [
        "A continuación establecemos los parámetros de configuración solicitados\\\n",
        "Utilizaremos namedtuples como contenedores de las configuraciones\\\n",
        "Nota: Las configuraciones de este tipo recomendaríamos tenerlas en un script aparte"
      ]
    },
    {
      "cell_type": "code",
      "execution_count": 9,
      "metadata": {
        "colab": {
          "base_uri": "https://localhost:8080/"
        },
        "id": "nGe7bDl5dUh5",
        "outputId": "f8a7f9dd-a13f-40c0-8901-f231277d730a"
      },
      "outputs": [
        {
          "name": "stdout",
          "output_type": "stream",
          "text": [
            "Param_RN(neuronas_capa1=10, funcion_activacion='relu', optimizador='sgd')\n"
          ]
        }
      ],
      "source": [
        "from collections import namedtuple\n",
        "\n",
        "neuronas_capa1 = (10, 10, 10, 10, 512, 512, 512, 512)\n",
        "funcion_activacion = (\"relu\", \"relu\", \"sigmoid\", \"sigmoid\", \"relu\", \"relu\", \"sigmoid\", \"sigmoid\")\n",
        "optimizador = (\"sgd\", \"rmsprop\", \"sgd\", \"rmsprop\", \"sgd\", \"rmsprop\", \"sgd\", \"rmsprop\")\n",
        "\n",
        "param_rn = namedtuple(\"Param_RN\",\n",
        "                      [\"neuronas_capa1\",\"funcion_activacion\",\"optimizador\"])\n",
        "\n",
        "rn_configs = [param_rn(*params) for params in zip(neuronas_capa1,\n",
        "                                                  funcion_activacion,\n",
        "                                                  optimizador)]\n",
        "print(rn_configs[0]) # vistazo a una de las configuraciones"
      ]
    },
    {
      "cell_type": "markdown",
      "metadata": {
        "id": "LEc03ZbRdUh5"
      },
      "source": [
        "Adicionalmente se utilizará:\n",
        "* función de perdida 'categorical_crossentropy'\n",
        "* métrica de precisión\n",
        "* 5 épocas"
      ]
    },
    {
      "cell_type": "markdown",
      "metadata": {
        "id": "lkAsMhuXdUh5"
      },
      "source": [
        "**CONSTRUIMOS LA RNA**\n",
        "- **Capa** (**layers**) es el **componente básico de las redes neuronales**. => Es un **filtro** de datos (módulo de procesamiento de datos).Entran datos y salen con una forma más útil para el objetivo del problema a resolver. => **Destilación de datos**\n",
        "    - Las capas extraen **representaciones**  de los datos introducidos en ellas, que deberían ser más significativas para el problema en cuestión.\n",
        "\n",
        "Utilizaremos capas densas (cada neurona está conectada a todas las demás de esa capa).\\\n",
        "Cada capa aplica unas cuantas operaciones con tensores sencillas a los datos\n",
        "de entrada, y que estas operaciones implican tensores de pesos. Los tensores\n",
        "de peso, que son los atributos de las capas, son donde persiste el\n",
        "\"conocimiento\" de la red.\n",
        "En general, la capa de salida de una red de clasificación tendrá tantas\n",
        "neuronas como clases, menos en la clasificación binaria, que con 1 vale. Cada\n",
        "valor será la probabilidad de que la imagen del dígito actual pertenezca a cada\n",
        "una de las clases\n",
        "\n",
        "\n",
        "\n"
      ]
    },
    {
      "cell_type": "code",
      "execution_count": 12,
      "metadata": {
        "colab": {
          "base_uri": "https://localhost:8080/"
        },
        "id": "mzV0Wi66AGug",
        "outputId": "709f52d0-57d7-4c4d-8288-e640d569dc13"
      },
      "outputs": [
        {
          "name": "stdout",
          "output_type": "stream",
          "text": [
            "Model: \"sequential_12\"\n",
            "_________________________________________________________________\n",
            " Layer (type)                Output Shape              Param #   \n",
            "=================================================================\n",
            " dense_16 (Dense)            (None, 10)                7850      \n",
            "                                                                 \n",
            " dense_17 (Dense)            (None, 10)                110       \n",
            "                                                                 \n",
            "=================================================================\n",
            "Total params: 7960 (31.09 KB)\n",
            "Trainable params: 7960 (31.09 KB)\n",
            "Non-trainable params: 0 (0.00 Byte)\n",
            "_________________________________________________________________\n"
          ]
        }
      ],
      "source": [
        "# 3.- CONSTRUIMOS LA ARQUITECTURA DE LA RED\n",
        "from keras import models  # importamos de keras las librerías de modelos y de capas (layers)\n",
        "from keras import layers\n",
        "\n",
        "# El tipo de modelo para nuestras redes será secuencial\n",
        "# Las redes constarán de dos capas densas\n",
        "# La primera contiene el número de neuronas y su función de activación (ambos especificados en el enunciado)\n",
        "# La segunda contiene 10 neuronas (una para cada tipo de ropa) y función de activación softmax\n",
        "# Esta última capa nos servirá para saber como de bien lo ha hecho la red, al devolvernos una matriz de 10 puntuaciones de probabilidad (sumando 1)\n",
        "# La puntuación será la probabilidad de que la imagen pertenezca a una de nuestras clases de 10 tipos de prendas.\n",
        "networks = []\n",
        "for config in rn_configs:\n",
        "  network = models.Sequential()\n",
        "  # Primera capa (configuración enunciado)\n",
        "  network.add(layers.Dense(config.neuronas_capa1,\n",
        "                           activation=config.funcion_activacion,\n",
        "                           input_shape=(28*28,)))\n",
        "  # Segunda capa (10 neuronas y softmax)\n",
        "  network.add(layers.Dense(10, activation='softmax'))\n",
        "  networks.append(network)\n",
        "\n",
        "# Por ejemplo, vemos la primera network de nuestra lista de networks\n",
        "networks[0].summary()"
      ]
    },
    {
      "cell_type": "markdown",
      "metadata": {
        "id": "LGNdAEL_EKvg"
      },
      "source": [
        "Observamos que para la primera red neuronal (**networks[0]**), tenemos un total de 7960 parámetros\\\n",
        "Keras nos devuelve el número de parámetros que se calcula como:\\\n",
        "**nº parámetros capa densa = nº de neuronas x nº de entradas + sesgos**\n",
        "* **Capa 1:** 10 x 784 + 10 = 7850\n",
        "* **Capa 2:** 10 x 10 + 10 = 110\n",
        "* **Total:**  7850 + 110 = 7960"
      ]
    },
    {
      "cell_type": "markdown",
      "metadata": {
        "id": "k5s8MCtJRYCz"
      },
      "source": [
        "Para que preparar la red, debemos elegir:\n",
        "- Una **función de pérdida**: utilizaremos la función de pérdida `categorical_crossentropy` que mide la discrepancia entre las predicciones de un modelo y las respuestas reales en problemas de clasificación con múltiples categorías. Calcula la diferencia entre las distribuciones de probabilidad predichas y las verdaderas, utilizando la entropía cruzada como métrica.\n",
        "\n",
        "- Un **optimizador**: este es el mecanismo a través del cual la red se actualizará en función de los datos que ve y su función de pérdida. (Lo veremos en detalle más adelante)\n",
        "- **Métricas** para monitorizar durante el entrenamiento y las pruebas. Solo nos preocuparemos por la **precisión** `accuracy` (la fracción de las imágenes que fueron clasificado)."
      ]
    },
    {
      "cell_type": "code",
      "execution_count": null,
      "metadata": {
        "id": "FZFKNvdaLKnY"
      },
      "outputs": [],
      "source": []
    }
  ],
  "metadata": {
    "colab": {
      "provenance": []
    },
    "kernelspec": {
      "display_name": ".venv",
      "language": "python",
      "name": "python3"
    },
    "language_info": {
      "codemirror_mode": {
        "name": "ipython",
        "version": 3
      },
      "file_extension": ".py",
      "mimetype": "text/x-python",
      "name": "python",
      "nbconvert_exporter": "python",
      "pygments_lexer": "ipython3",
      "version": "3.11.4"
    }
  },
  "nbformat": 4,
  "nbformat_minor": 0
}
